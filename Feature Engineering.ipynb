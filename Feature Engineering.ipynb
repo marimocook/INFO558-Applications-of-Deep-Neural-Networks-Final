{
 "cells": [
  {
   "cell_type": "code",
   "execution_count": 1,
   "metadata": {},
   "outputs": [],
   "source": [
    "import pandas as pd\n",
    "import numpy as np"
   ]
  },
  {
   "cell_type": "code",
   "execution_count": 19,
   "metadata": {},
   "outputs": [
    {
     "data": {
      "text/html": [
       "<div>\n",
       "<style scoped>\n",
       "    .dataframe tbody tr th:only-of-type {\n",
       "        vertical-align: middle;\n",
       "    }\n",
       "\n",
       "    .dataframe tbody tr th {\n",
       "        vertical-align: top;\n",
       "    }\n",
       "\n",
       "    .dataframe thead th {\n",
       "        text-align: right;\n",
       "    }\n",
       "</style>\n",
       "<table border=\"1\" class=\"dataframe\">\n",
       "  <thead>\n",
       "    <tr style=\"text-align: right;\">\n",
       "      <th></th>\n",
       "      <th>id</th>\n",
       "      <th>zipcode</th>\n",
       "      <th>score</th>\n",
       "    </tr>\n",
       "  </thead>\n",
       "  <tbody>\n",
       "    <tr>\n",
       "      <th>0</th>\n",
       "      <td>2</td>\n",
       "      <td>8810</td>\n",
       "      <td>11</td>\n",
       "    </tr>\n",
       "    <tr>\n",
       "      <th>1</th>\n",
       "      <td>3</td>\n",
       "      <td>28129</td>\n",
       "      <td>4</td>\n",
       "    </tr>\n",
       "    <tr>\n",
       "      <th>2</th>\n",
       "      <td>4</td>\n",
       "      <td>79915</td>\n",
       "      <td>25</td>\n",
       "    </tr>\n",
       "  </tbody>\n",
       "</table>\n",
       "</div>"
      ],
      "text/plain": [
       "   id  zipcode  score\n",
       "0   2     8810     11\n",
       "1   3    28129      4\n",
       "2   4    79915     25"
      ]
     },
     "execution_count": 19,
     "metadata": {},
     "output_type": "execute_result"
    }
   ],
   "source": [
    "train_data=pd.read_csv(\"data/train.csv\")\n",
    "train_data.head(3)"
   ]
  },
  {
   "cell_type": "code",
   "execution_count": 16,
   "metadata": {},
   "outputs": [
    {
     "data": {
      "text/plain": [
       "Index(['STATEFIPS', 'STATE', 'zipcode', 'agi_stub', 'N1', 'mars1', 'MARS2',\n",
       "       'MARS4', 'PREP', 'N2',\n",
       "       ...\n",
       "       'N10300', 'A10300', 'N85530', 'A85530', 'N85300', 'A85300', 'N11901',\n",
       "       'A11901', 'N11902', 'A11902'],\n",
       "      dtype='object', length=147)"
      ]
     },
     "execution_count": 16,
     "metadata": {},
     "output_type": "execute_result"
    }
   ],
   "source": [
    "zip_info=pd.read_csv(\"data/zipcode2016/16zpallagi.csv\")\n",
    "zip_info.columns"
   ]
  },
  {
   "cell_type": "code",
   "execution_count": 5,
   "metadata": {},
   "outputs": [
    {
     "data": {
      "text/plain": [
       "29874"
      ]
     },
     "execution_count": 5,
     "metadata": {},
     "output_type": "execute_result"
    }
   ],
   "source": [
    "zip_info[\"zipcode\"].nunique()"
   ]
  },
  {
   "cell_type": "code",
   "execution_count": 6,
   "metadata": {},
   "outputs": [
    {
     "data": {
      "text/plain": [
       "(179796, 147)"
      ]
     },
     "execution_count": 6,
     "metadata": {},
     "output_type": "execute_result"
    }
   ],
   "source": [
    "zip_info.shape"
   ]
  },
  {
   "cell_type": "code",
   "execution_count": 14,
   "metadata": {},
   "outputs": [
    {
     "data": {
      "text/html": [
       "<div>\n",
       "<style scoped>\n",
       "    .dataframe tbody tr th:only-of-type {\n",
       "        vertical-align: middle;\n",
       "    }\n",
       "\n",
       "    .dataframe tbody tr th {\n",
       "        vertical-align: top;\n",
       "    }\n",
       "\n",
       "    .dataframe thead th {\n",
       "        text-align: right;\n",
       "    }\n",
       "</style>\n",
       "<table border=\"1\" class=\"dataframe\">\n",
       "  <thead>\n",
       "    <tr style=\"text-align: right;\">\n",
       "      <th></th>\n",
       "      <th>STATEFIPS</th>\n",
       "      <th>STATE</th>\n",
       "      <th>zipcode</th>\n",
       "      <th>agi_stub</th>\n",
       "      <th>N1</th>\n",
       "      <th>mars1</th>\n",
       "      <th>MARS2</th>\n",
       "      <th>MARS4</th>\n",
       "      <th>PREP</th>\n",
       "      <th>N2</th>\n",
       "      <th>...</th>\n",
       "      <th>N10300</th>\n",
       "      <th>A10300</th>\n",
       "      <th>N85530</th>\n",
       "      <th>A85530</th>\n",
       "      <th>N85300</th>\n",
       "      <th>A85300</th>\n",
       "      <th>N11901</th>\n",
       "      <th>A11901</th>\n",
       "      <th>N11902</th>\n",
       "      <th>A11902</th>\n",
       "    </tr>\n",
       "  </thead>\n",
       "  <tbody>\n",
       "    <tr>\n",
       "      <th>114991</th>\n",
       "      <td>37</td>\n",
       "      <td>NC</td>\n",
       "      <td>28129</td>\n",
       "      <td>1</td>\n",
       "      <td>800</td>\n",
       "      <td>550</td>\n",
       "      <td>140</td>\n",
       "      <td>100</td>\n",
       "      <td>470</td>\n",
       "      <td>1080</td>\n",
       "      <td>...</td>\n",
       "      <td>410</td>\n",
       "      <td>402</td>\n",
       "      <td>0</td>\n",
       "      <td>0</td>\n",
       "      <td>0</td>\n",
       "      <td>0</td>\n",
       "      <td>80</td>\n",
       "      <td>101</td>\n",
       "      <td>670</td>\n",
       "      <td>1116</td>\n",
       "    </tr>\n",
       "    <tr>\n",
       "      <th>114992</th>\n",
       "      <td>37</td>\n",
       "      <td>NC</td>\n",
       "      <td>28129</td>\n",
       "      <td>2</td>\n",
       "      <td>670</td>\n",
       "      <td>300</td>\n",
       "      <td>230</td>\n",
       "      <td>130</td>\n",
       "      <td>410</td>\n",
       "      <td>1330</td>\n",
       "      <td>...</td>\n",
       "      <td>570</td>\n",
       "      <td>1518</td>\n",
       "      <td>0</td>\n",
       "      <td>0</td>\n",
       "      <td>0</td>\n",
       "      <td>0</td>\n",
       "      <td>110</td>\n",
       "      <td>153</td>\n",
       "      <td>560</td>\n",
       "      <td>1359</td>\n",
       "    </tr>\n",
       "    <tr>\n",
       "      <th>114993</th>\n",
       "      <td>37</td>\n",
       "      <td>NC</td>\n",
       "      <td>28129</td>\n",
       "      <td>3</td>\n",
       "      <td>370</td>\n",
       "      <td>100</td>\n",
       "      <td>230</td>\n",
       "      <td>40</td>\n",
       "      <td>260</td>\n",
       "      <td>860</td>\n",
       "      <td>...</td>\n",
       "      <td>360</td>\n",
       "      <td>1873</td>\n",
       "      <td>0</td>\n",
       "      <td>0</td>\n",
       "      <td>0</td>\n",
       "      <td>0</td>\n",
       "      <td>80</td>\n",
       "      <td>177</td>\n",
       "      <td>290</td>\n",
       "      <td>717</td>\n",
       "    </tr>\n",
       "    <tr>\n",
       "      <th>114994</th>\n",
       "      <td>37</td>\n",
       "      <td>NC</td>\n",
       "      <td>28129</td>\n",
       "      <td>4</td>\n",
       "      <td>280</td>\n",
       "      <td>30</td>\n",
       "      <td>250</td>\n",
       "      <td>0</td>\n",
       "      <td>210</td>\n",
       "      <td>760</td>\n",
       "      <td>...</td>\n",
       "      <td>280</td>\n",
       "      <td>2264</td>\n",
       "      <td>0</td>\n",
       "      <td>0</td>\n",
       "      <td>0</td>\n",
       "      <td>0</td>\n",
       "      <td>80</td>\n",
       "      <td>223</td>\n",
       "      <td>200</td>\n",
       "      <td>681</td>\n",
       "    </tr>\n",
       "    <tr>\n",
       "      <th>114995</th>\n",
       "      <td>37</td>\n",
       "      <td>NC</td>\n",
       "      <td>28129</td>\n",
       "      <td>5</td>\n",
       "      <td>290</td>\n",
       "      <td>20</td>\n",
       "      <td>280</td>\n",
       "      <td>0</td>\n",
       "      <td>200</td>\n",
       "      <td>850</td>\n",
       "      <td>...</td>\n",
       "      <td>290</td>\n",
       "      <td>4495</td>\n",
       "      <td>0</td>\n",
       "      <td>0</td>\n",
       "      <td>0</td>\n",
       "      <td>0</td>\n",
       "      <td>100</td>\n",
       "      <td>431</td>\n",
       "      <td>190</td>\n",
       "      <td>754</td>\n",
       "    </tr>\n",
       "    <tr>\n",
       "      <th>114996</th>\n",
       "      <td>37</td>\n",
       "      <td>NC</td>\n",
       "      <td>28129</td>\n",
       "      <td>6</td>\n",
       "      <td>30</td>\n",
       "      <td>0</td>\n",
       "      <td>20</td>\n",
       "      <td>0</td>\n",
       "      <td>20</td>\n",
       "      <td>70</td>\n",
       "      <td>...</td>\n",
       "      <td>30</td>\n",
       "      <td>4466</td>\n",
       "      <td>0</td>\n",
       "      <td>0</td>\n",
       "      <td>0</td>\n",
       "      <td>0</td>\n",
       "      <td>20</td>\n",
       "      <td>1002</td>\n",
       "      <td>0</td>\n",
       "      <td>0</td>\n",
       "    </tr>\n",
       "  </tbody>\n",
       "</table>\n",
       "<p>6 rows × 147 columns</p>\n",
       "</div>"
      ],
      "text/plain": [
       "        STATEFIPS STATE  zipcode  agi_stub   N1  mars1  MARS2  MARS4  PREP  \\\n",
       "114991         37    NC    28129         1  800    550    140    100   470   \n",
       "114992         37    NC    28129         2  670    300    230    130   410   \n",
       "114993         37    NC    28129         3  370    100    230     40   260   \n",
       "114994         37    NC    28129         4  280     30    250      0   210   \n",
       "114995         37    NC    28129         5  290     20    280      0   200   \n",
       "114996         37    NC    28129         6   30      0     20      0    20   \n",
       "\n",
       "          N2   ...    N10300  A10300  N85530  A85530  N85300  A85300  N11901  \\\n",
       "114991  1080   ...       410     402       0       0       0       0      80   \n",
       "114992  1330   ...       570    1518       0       0       0       0     110   \n",
       "114993   860   ...       360    1873       0       0       0       0      80   \n",
       "114994   760   ...       280    2264       0       0       0       0      80   \n",
       "114995   850   ...       290    4495       0       0       0       0     100   \n",
       "114996    70   ...        30    4466       0       0       0       0      20   \n",
       "\n",
       "        A11901  N11902  A11902  \n",
       "114991     101     670    1116  \n",
       "114992     153     560    1359  \n",
       "114993     177     290     717  \n",
       "114994     223     200     681  \n",
       "114995     431     190     754  \n",
       "114996    1002       0       0  \n",
       "\n",
       "[6 rows x 147 columns]"
      ]
     },
     "execution_count": 14,
     "metadata": {},
     "output_type": "execute_result"
    }
   ],
   "source": [
    "zip_info[zip_info[\"zipcode\"]==28129]"
   ]
  },
  {
   "cell_type": "code",
   "execution_count": 12,
   "metadata": {},
   "outputs": [
    {
     "data": {
      "text/html": [
       "<div>\n",
       "<style scoped>\n",
       "    .dataframe tbody tr th:only-of-type {\n",
       "        vertical-align: middle;\n",
       "    }\n",
       "\n",
       "    .dataframe tbody tr th {\n",
       "        vertical-align: top;\n",
       "    }\n",
       "\n",
       "    .dataframe thead th {\n",
       "        text-align: right;\n",
       "    }\n",
       "</style>\n",
       "<table border=\"1\" class=\"dataframe\">\n",
       "  <thead>\n",
       "    <tr style=\"text-align: right;\">\n",
       "      <th></th>\n",
       "      <th>id</th>\n",
       "      <th>zipcode</th>\n",
       "      <th>score</th>\n",
       "    </tr>\n",
       "  </thead>\n",
       "  <tbody>\n",
       "  </tbody>\n",
       "</table>\n",
       "</div>"
      ],
      "text/plain": [
       "Empty DataFrame\n",
       "Columns: [id, zipcode, score]\n",
       "Index: []"
      ]
     },
     "execution_count": 12,
     "metadata": {},
     "output_type": "execute_result"
    }
   ],
   "source": [
    "train_data[train_data[\"zipcode\"]==]"
   ]
  },
  {
   "cell_type": "code",
   "execution_count": 19,
   "metadata": {},
   "outputs": [],
   "source": [
    "zip_info1=zip_info.groupby(by=[\"zipcode\"]).count()"
   ]
  },
  {
   "cell_type": "code",
   "execution_count": 23,
   "metadata": {},
   "outputs": [
    {
     "data": {
      "text/html": [
       "<div>\n",
       "<style scoped>\n",
       "    .dataframe tbody tr th:only-of-type {\n",
       "        vertical-align: middle;\n",
       "    }\n",
       "\n",
       "    .dataframe tbody tr th {\n",
       "        vertical-align: top;\n",
       "    }\n",
       "\n",
       "    .dataframe thead th {\n",
       "        text-align: right;\n",
       "    }\n",
       "</style>\n",
       "<table border=\"1\" class=\"dataframe\">\n",
       "  <thead>\n",
       "    <tr style=\"text-align: right;\">\n",
       "      <th></th>\n",
       "      <th>STATEFIPS</th>\n",
       "      <th>STATE</th>\n",
       "      <th>agi_stub</th>\n",
       "      <th>N1</th>\n",
       "      <th>mars1</th>\n",
       "      <th>MARS2</th>\n",
       "      <th>MARS4</th>\n",
       "      <th>PREP</th>\n",
       "      <th>N2</th>\n",
       "      <th>NUMDEP</th>\n",
       "      <th>...</th>\n",
       "      <th>N10300</th>\n",
       "      <th>A10300</th>\n",
       "      <th>N85530</th>\n",
       "      <th>A85530</th>\n",
       "      <th>N85300</th>\n",
       "      <th>A85300</th>\n",
       "      <th>N11901</th>\n",
       "      <th>A11901</th>\n",
       "      <th>N11902</th>\n",
       "      <th>A11902</th>\n",
       "    </tr>\n",
       "    <tr>\n",
       "      <th>zipcode</th>\n",
       "      <th></th>\n",
       "      <th></th>\n",
       "      <th></th>\n",
       "      <th></th>\n",
       "      <th></th>\n",
       "      <th></th>\n",
       "      <th></th>\n",
       "      <th></th>\n",
       "      <th></th>\n",
       "      <th></th>\n",
       "      <th></th>\n",
       "      <th></th>\n",
       "      <th></th>\n",
       "      <th></th>\n",
       "      <th></th>\n",
       "      <th></th>\n",
       "      <th></th>\n",
       "      <th></th>\n",
       "      <th></th>\n",
       "      <th></th>\n",
       "      <th></th>\n",
       "    </tr>\n",
       "  </thead>\n",
       "  <tbody>\n",
       "    <tr>\n",
       "      <th>16802</th>\n",
       "      <td>4</td>\n",
       "      <td>4</td>\n",
       "      <td>4</td>\n",
       "      <td>4</td>\n",
       "      <td>4</td>\n",
       "      <td>4</td>\n",
       "      <td>4</td>\n",
       "      <td>4</td>\n",
       "      <td>4</td>\n",
       "      <td>4</td>\n",
       "      <td>...</td>\n",
       "      <td>4</td>\n",
       "      <td>4</td>\n",
       "      <td>4</td>\n",
       "      <td>4</td>\n",
       "      <td>4</td>\n",
       "      <td>4</td>\n",
       "      <td>4</td>\n",
       "      <td>4</td>\n",
       "      <td>4</td>\n",
       "      <td>4</td>\n",
       "    </tr>\n",
       "  </tbody>\n",
       "</table>\n",
       "<p>1 rows × 146 columns</p>\n",
       "</div>"
      ],
      "text/plain": [
       "         STATEFIPS  STATE  agi_stub  N1  mars1  MARS2  MARS4  PREP  N2  \\\n",
       "zipcode                                                                  \n",
       "16802            4      4         4   4      4      4      4     4   4   \n",
       "\n",
       "         NUMDEP   ...    N10300  A10300  N85530  A85530  N85300  A85300  \\\n",
       "zipcode           ...                                                     \n",
       "16802         4   ...         4       4       4       4       4       4   \n",
       "\n",
       "         N11901  A11901  N11902  A11902  \n",
       "zipcode                                  \n",
       "16802         4       4       4       4  \n",
       "\n",
       "[1 rows x 146 columns]"
      ]
     },
     "execution_count": 23,
     "metadata": {},
     "output_type": "execute_result"
    }
   ],
   "source": [
    "zip_info1[zip_info1[\"agi_stub\"]==4]"
   ]
  },
  {
   "cell_type": "code",
   "execution_count": 24,
   "metadata": {},
   "outputs": [
    {
     "data": {
      "text/plain": [
       "23788"
      ]
     },
     "execution_count": 24,
     "metadata": {},
     "output_type": "execute_result"
    }
   ],
   "source": [
    "train_data[\"zipcode\"].nunique()"
   ]
  },
  {
   "cell_type": "code",
   "execution_count": 25,
   "metadata": {},
   "outputs": [
    {
     "data": {
      "text/plain": [
       "(23788, 3)"
      ]
     },
     "execution_count": 25,
     "metadata": {},
     "output_type": "execute_result"
    }
   ],
   "source": [
    "train_data.shape"
   ]
  },
  {
   "cell_type": "code",
   "execution_count": 26,
   "metadata": {},
   "outputs": [],
   "source": [
    "return_name=zip_info.loc[:, \"N1\":\"A11902\"].columns"
   ]
  },
  {
   "cell_type": "code",
   "execution_count": 29,
   "metadata": {},
   "outputs": [],
   "source": [
    "distinct_name=zip_info.loc[:, \"STATEFIPS\":\"zipcode\"].columns"
   ]
  },
  {
   "cell_type": "code",
   "execution_count": 31,
   "metadata": {},
   "outputs": [],
   "source": [
    "to_num={1:12500, 2:37500, 3:62500, 4:87500, 5:150000, 6:212500}\n",
    "zip_info[\"avg_income\"]=zip_info[\"agi_stub\"].apply(lambda x: to_num[x])\n",
    "zip_info[\"agg_income\"]=zip_info[\"avg_income\"]*zip_info[\"N1\"]"
   ]
  },
  {
   "cell_type": "code",
   "execution_count": 32,
   "metadata": {},
   "outputs": [
    {
     "data": {
      "text/html": [
       "<div>\n",
       "<style scoped>\n",
       "    .dataframe tbody tr th:only-of-type {\n",
       "        vertical-align: middle;\n",
       "    }\n",
       "\n",
       "    .dataframe tbody tr th {\n",
       "        vertical-align: top;\n",
       "    }\n",
       "\n",
       "    .dataframe thead th {\n",
       "        text-align: right;\n",
       "    }\n",
       "</style>\n",
       "<table border=\"1\" class=\"dataframe\">\n",
       "  <thead>\n",
       "    <tr style=\"text-align: right;\">\n",
       "      <th></th>\n",
       "      <th>agg_income</th>\n",
       "      <th>N1</th>\n",
       "    </tr>\n",
       "    <tr>\n",
       "      <th>zipcode</th>\n",
       "      <th></th>\n",
       "      <th></th>\n",
       "    </tr>\n",
       "  </thead>\n",
       "  <tbody>\n",
       "    <tr>\n",
       "      <th>0</th>\n",
       "      <td>8626236500000</td>\n",
       "      <td>147025790</td>\n",
       "    </tr>\n",
       "    <tr>\n",
       "      <th>1001</th>\n",
       "      <td>521875000</td>\n",
       "      <td>8980</td>\n",
       "    </tr>\n",
       "    <tr>\n",
       "      <th>1002</th>\n",
       "      <td>677625000</td>\n",
       "      <td>9490</td>\n",
       "    </tr>\n",
       "    <tr>\n",
       "      <th>1003</th>\n",
       "      <td>2625000</td>\n",
       "      <td>170</td>\n",
       "    </tr>\n",
       "    <tr>\n",
       "      <th>1005</th>\n",
       "      <td>143500000</td>\n",
       "      <td>2370</td>\n",
       "    </tr>\n",
       "  </tbody>\n",
       "</table>\n",
       "</div>"
      ],
      "text/plain": [
       "            agg_income         N1\n",
       "zipcode                          \n",
       "0        8626236500000  147025790\n",
       "1001         521875000       8980\n",
       "1002         677625000       9490\n",
       "1003           2625000        170\n",
       "1005         143500000       2370"
      ]
     },
     "execution_count": 32,
     "metadata": {},
     "output_type": "execute_result"
    }
   ],
   "source": [
    "zip_info_agg=zip_info.groupby(by=\"zipcode\")[\"agg_income\", \"N1\"].sum()\n",
    "zip_info_agg.head(5)"
   ]
  },
  {
   "cell_type": "code",
   "execution_count": 33,
   "metadata": {},
   "outputs": [
    {
     "data": {
      "text/html": [
       "<div>\n",
       "<style scoped>\n",
       "    .dataframe tbody tr th:only-of-type {\n",
       "        vertical-align: middle;\n",
       "    }\n",
       "\n",
       "    .dataframe tbody tr th {\n",
       "        vertical-align: top;\n",
       "    }\n",
       "\n",
       "    .dataframe thead th {\n",
       "        text-align: right;\n",
       "    }\n",
       "</style>\n",
       "<table border=\"1\" class=\"dataframe\">\n",
       "  <thead>\n",
       "    <tr style=\"text-align: right;\">\n",
       "      <th></th>\n",
       "      <th>zipcode</th>\n",
       "      <th>agg_income</th>\n",
       "      <th>N1</th>\n",
       "      <th>income_level</th>\n",
       "    </tr>\n",
       "  </thead>\n",
       "  <tbody>\n",
       "    <tr>\n",
       "      <th>0</th>\n",
       "      <td>0</td>\n",
       "      <td>8626236500000</td>\n",
       "      <td>147025790</td>\n",
       "      <td>58671.587481</td>\n",
       "    </tr>\n",
       "    <tr>\n",
       "      <th>1</th>\n",
       "      <td>1001</td>\n",
       "      <td>521875000</td>\n",
       "      <td>8980</td>\n",
       "      <td>58115.256125</td>\n",
       "    </tr>\n",
       "    <tr>\n",
       "      <th>2</th>\n",
       "      <td>1002</td>\n",
       "      <td>677625000</td>\n",
       "      <td>9490</td>\n",
       "      <td>71404.109589</td>\n",
       "    </tr>\n",
       "    <tr>\n",
       "      <th>3</th>\n",
       "      <td>1003</td>\n",
       "      <td>2625000</td>\n",
       "      <td>170</td>\n",
       "      <td>15441.176471</td>\n",
       "    </tr>\n",
       "    <tr>\n",
       "      <th>4</th>\n",
       "      <td>1005</td>\n",
       "      <td>143500000</td>\n",
       "      <td>2370</td>\n",
       "      <td>60548.523207</td>\n",
       "    </tr>\n",
       "  </tbody>\n",
       "</table>\n",
       "</div>"
      ],
      "text/plain": [
       "   zipcode     agg_income         N1  income_level\n",
       "0        0  8626236500000  147025790  58671.587481\n",
       "1     1001      521875000       8980  58115.256125\n",
       "2     1002      677625000       9490  71404.109589\n",
       "3     1003        2625000        170  15441.176471\n",
       "4     1005      143500000       2370  60548.523207"
      ]
     },
     "execution_count": 33,
     "metadata": {},
     "output_type": "execute_result"
    }
   ],
   "source": [
    "zip_info_agg.reset_index(inplace=True)\n",
    "zip_info_agg[\"income_level\"]=zip_info_agg[\"agg_income\"]/zip_info_agg[\"N1\"]\n",
    "zip_info_agg.head(5)"
   ]
  },
  {
   "cell_type": "code",
   "execution_count": 34,
   "metadata": {},
   "outputs": [
    {
     "data": {
      "text/html": [
       "<div>\n",
       "<style scoped>\n",
       "    .dataframe tbody tr th:only-of-type {\n",
       "        vertical-align: middle;\n",
       "    }\n",
       "\n",
       "    .dataframe tbody tr th {\n",
       "        vertical-align: top;\n",
       "    }\n",
       "\n",
       "    .dataframe thead th {\n",
       "        text-align: right;\n",
       "    }\n",
       "</style>\n",
       "<table border=\"1\" class=\"dataframe\">\n",
       "  <thead>\n",
       "    <tr style=\"text-align: right;\">\n",
       "      <th></th>\n",
       "      <th>id</th>\n",
       "      <th>zipcode</th>\n",
       "      <th>score</th>\n",
       "      <th>agg_income</th>\n",
       "      <th>N1</th>\n",
       "      <th>income_level</th>\n",
       "    </tr>\n",
       "  </thead>\n",
       "  <tbody>\n",
       "    <tr>\n",
       "      <th>0</th>\n",
       "      <td>2</td>\n",
       "      <td>8810</td>\n",
       "      <td>11</td>\n",
       "      <td>341750000</td>\n",
       "      <td>3830</td>\n",
       "      <td>89229.765013</td>\n",
       "    </tr>\n",
       "    <tr>\n",
       "      <th>1</th>\n",
       "      <td>3</td>\n",
       "      <td>28129</td>\n",
       "      <td>4</td>\n",
       "      <td>132625000</td>\n",
       "      <td>2440</td>\n",
       "      <td>54354.508197</td>\n",
       "    </tr>\n",
       "    <tr>\n",
       "      <th>2</th>\n",
       "      <td>4</td>\n",
       "      <td>79915</td>\n",
       "      <td>25</td>\n",
       "      <td>421000000</td>\n",
       "      <td>15510</td>\n",
       "      <td>27143.778208</td>\n",
       "    </tr>\n",
       "    <tr>\n",
       "      <th>3</th>\n",
       "      <td>5</td>\n",
       "      <td>21085</td>\n",
       "      <td>10</td>\n",
       "      <td>571625000</td>\n",
       "      <td>8690</td>\n",
       "      <td>65779.631761</td>\n",
       "    </tr>\n",
       "    <tr>\n",
       "      <th>4</th>\n",
       "      <td>6</td>\n",
       "      <td>62882</td>\n",
       "      <td>1</td>\n",
       "      <td>38875000</td>\n",
       "      <td>950</td>\n",
       "      <td>40921.052632</td>\n",
       "    </tr>\n",
       "  </tbody>\n",
       "</table>\n",
       "</div>"
      ],
      "text/plain": [
       "   id  zipcode  score  agg_income     N1  income_level\n",
       "0   2     8810     11   341750000   3830  89229.765013\n",
       "1   3    28129      4   132625000   2440  54354.508197\n",
       "2   4    79915     25   421000000  15510  27143.778208\n",
       "3   5    21085     10   571625000   8690  65779.631761\n",
       "4   6    62882      1    38875000    950  40921.052632"
      ]
     },
     "execution_count": 34,
     "metadata": {},
     "output_type": "execute_result"
    }
   ],
   "source": [
    "train_data=train_data.merge(zip_info_agg, how=\"left\", on=\"zipcode\")\n",
    "train_data.head(5)"
   ]
  },
  {
   "cell_type": "code",
   "execution_count": 35,
   "metadata": {},
   "outputs": [
    {
     "data": {
      "text/html": [
       "<div>\n",
       "<style scoped>\n",
       "    .dataframe tbody tr th:only-of-type {\n",
       "        vertical-align: middle;\n",
       "    }\n",
       "\n",
       "    .dataframe tbody tr th {\n",
       "        vertical-align: top;\n",
       "    }\n",
       "\n",
       "    .dataframe thead th {\n",
       "        text-align: right;\n",
       "    }\n",
       "</style>\n",
       "<table border=\"1\" class=\"dataframe\">\n",
       "  <thead>\n",
       "    <tr style=\"text-align: right;\">\n",
       "      <th></th>\n",
       "      <th>id</th>\n",
       "      <th>zipcode</th>\n",
       "      <th>score</th>\n",
       "      <th>income_level</th>\n",
       "    </tr>\n",
       "  </thead>\n",
       "  <tbody>\n",
       "    <tr>\n",
       "      <th>0</th>\n",
       "      <td>2</td>\n",
       "      <td>8810</td>\n",
       "      <td>11</td>\n",
       "      <td>89229.765013</td>\n",
       "    </tr>\n",
       "    <tr>\n",
       "      <th>1</th>\n",
       "      <td>3</td>\n",
       "      <td>28129</td>\n",
       "      <td>4</td>\n",
       "      <td>54354.508197</td>\n",
       "    </tr>\n",
       "    <tr>\n",
       "      <th>2</th>\n",
       "      <td>4</td>\n",
       "      <td>79915</td>\n",
       "      <td>25</td>\n",
       "      <td>27143.778208</td>\n",
       "    </tr>\n",
       "    <tr>\n",
       "      <th>3</th>\n",
       "      <td>5</td>\n",
       "      <td>21085</td>\n",
       "      <td>10</td>\n",
       "      <td>65779.631761</td>\n",
       "    </tr>\n",
       "    <tr>\n",
       "      <th>4</th>\n",
       "      <td>6</td>\n",
       "      <td>62882</td>\n",
       "      <td>1</td>\n",
       "      <td>40921.052632</td>\n",
       "    </tr>\n",
       "  </tbody>\n",
       "</table>\n",
       "</div>"
      ],
      "text/plain": [
       "   id  zipcode  score  income_level\n",
       "0   2     8810     11  89229.765013\n",
       "1   3    28129      4  54354.508197\n",
       "2   4    79915     25  27143.778208\n",
       "3   5    21085     10  65779.631761\n",
       "4   6    62882      1  40921.052632"
      ]
     },
     "execution_count": 35,
     "metadata": {},
     "output_type": "execute_result"
    }
   ],
   "source": [
    "train_data.drop(\"agg_income\", axis=1, inplace=True)\n",
    "train_data.drop(\"N1\", axis=1, inplace=True)\n",
    "train_data.head(5)"
   ]
  },
  {
   "cell_type": "code",
   "execution_count": 36,
   "metadata": {},
   "outputs": [
    {
     "data": {
      "text/plain": [
       "Index(['id', 'zipcode', 'score', 'income_level', 'N1', 'mars1', 'MARS2',\n",
       "       'MARS4', 'PREP', 'N2',\n",
       "       ...\n",
       "       'N10300', 'A10300', 'N85530', 'A85530', 'N85300', 'A85300', 'N11901',\n",
       "       'A11901', 'N11902', 'A11902'],\n",
       "      dtype='object', length=147)"
      ]
     },
     "execution_count": 36,
     "metadata": {},
     "output_type": "execute_result"
    }
   ],
   "source": [
    "zip_info_agg2=zip_info.groupby(by=\"zipcode\").sum()\n",
    "train_data=train_data.merge(zip_info_agg2.loc[:, \"N1\":\"A11902\"], how=\"left\", on=\"zipcode\")\n",
    "train_data.columns"
   ]
  },
  {
   "cell_type": "code",
   "execution_count": 20,
   "metadata": {},
   "outputs": [
    {
     "data": {
      "text/html": [
       "<div>\n",
       "<style scoped>\n",
       "    .dataframe tbody tr th:only-of-type {\n",
       "        vertical-align: middle;\n",
       "    }\n",
       "\n",
       "    .dataframe tbody tr th {\n",
       "        vertical-align: top;\n",
       "    }\n",
       "\n",
       "    .dataframe thead th {\n",
       "        text-align: right;\n",
       "    }\n",
       "</style>\n",
       "<table border=\"1\" class=\"dataframe\">\n",
       "  <thead>\n",
       "    <tr style=\"text-align: right;\">\n",
       "      <th></th>\n",
       "      <th>score</th>\n",
       "    </tr>\n",
       "  </thead>\n",
       "  <tbody>\n",
       "    <tr>\n",
       "      <th>0</th>\n",
       "      <td>11</td>\n",
       "    </tr>\n",
       "    <tr>\n",
       "      <th>1</th>\n",
       "      <td>4</td>\n",
       "    </tr>\n",
       "    <tr>\n",
       "      <th>2</th>\n",
       "      <td>25</td>\n",
       "    </tr>\n",
       "  </tbody>\n",
       "</table>\n",
       "</div>"
      ],
      "text/plain": [
       "   score\n",
       "0     11\n",
       "1      4\n",
       "2     25"
      ]
     },
     "execution_count": 20,
     "metadata": {},
     "output_type": "execute_result"
    }
   ],
   "source": [
    "train_data_id=train_data.loc[:, [\"id\", \"zipcode\"]]\n",
    "train_data.drop(\"id\", axis=1, inplace=True)\n",
    "train_data.drop(\"zipcode\", axis=1, inplace=True)\n",
    "train_data.head(3)"
   ]
  },
  {
   "cell_type": "code",
   "execution_count": 38,
   "metadata": {},
   "outputs": [],
   "source": [
    "train_data.to_csv(\"data/experiment.csv\", index=False)"
   ]
  },
  {
   "cell_type": "code",
   "execution_count": 2,
   "metadata": {},
   "outputs": [
    {
     "data": {
      "text/html": [
       "<div>\n",
       "<style scoped>\n",
       "    .dataframe tbody tr th:only-of-type {\n",
       "        vertical-align: middle;\n",
       "    }\n",
       "\n",
       "    .dataframe tbody tr th {\n",
       "        vertical-align: top;\n",
       "    }\n",
       "\n",
       "    .dataframe thead th {\n",
       "        text-align: right;\n",
       "    }\n",
       "</style>\n",
       "<table border=\"1\" class=\"dataframe\">\n",
       "  <thead>\n",
       "    <tr style=\"text-align: right;\">\n",
       "      <th></th>\n",
       "      <th>score</th>\n",
       "      <th>income_level</th>\n",
       "      <th>N1</th>\n",
       "      <th>mars1</th>\n",
       "      <th>MARS2</th>\n",
       "      <th>MARS4</th>\n",
       "      <th>PREP</th>\n",
       "      <th>N2</th>\n",
       "      <th>NUMDEP</th>\n",
       "      <th>TOTAL_VITA</th>\n",
       "      <th>...</th>\n",
       "      <th>N10300</th>\n",
       "      <th>A10300</th>\n",
       "      <th>N85530</th>\n",
       "      <th>A85530</th>\n",
       "      <th>N85300</th>\n",
       "      <th>A85300</th>\n",
       "      <th>N11901</th>\n",
       "      <th>A11901</th>\n",
       "      <th>N11902</th>\n",
       "      <th>A11902</th>\n",
       "    </tr>\n",
       "  </thead>\n",
       "  <tbody>\n",
       "    <tr>\n",
       "      <th>0</th>\n",
       "      <td>11</td>\n",
       "      <td>89229.765013</td>\n",
       "      <td>3830</td>\n",
       "      <td>1520</td>\n",
       "      <td>1980</td>\n",
       "      <td>280</td>\n",
       "      <td>2250</td>\n",
       "      <td>8290</td>\n",
       "      <td>2890</td>\n",
       "      <td>50</td>\n",
       "      <td>...</td>\n",
       "      <td>3240</td>\n",
       "      <td>64384</td>\n",
       "      <td>230</td>\n",
       "      <td>477</td>\n",
       "      <td>180</td>\n",
       "      <td>197</td>\n",
       "      <td>850</td>\n",
       "      <td>4356</td>\n",
       "      <td>2800</td>\n",
       "      <td>10143</td>\n",
       "    </tr>\n",
       "    <tr>\n",
       "      <th>1</th>\n",
       "      <td>4</td>\n",
       "      <td>54354.508197</td>\n",
       "      <td>2440</td>\n",
       "      <td>1000</td>\n",
       "      <td>1150</td>\n",
       "      <td>270</td>\n",
       "      <td>1570</td>\n",
       "      <td>4950</td>\n",
       "      <td>1510</td>\n",
       "      <td>100</td>\n",
       "      <td>...</td>\n",
       "      <td>1940</td>\n",
       "      <td>15018</td>\n",
       "      <td>0</td>\n",
       "      <td>0</td>\n",
       "      <td>0</td>\n",
       "      <td>0</td>\n",
       "      <td>470</td>\n",
       "      <td>2087</td>\n",
       "      <td>1910</td>\n",
       "      <td>4627</td>\n",
       "    </tr>\n",
       "    <tr>\n",
       "      <th>2</th>\n",
       "      <td>25</td>\n",
       "      <td>27143.778208</td>\n",
       "      <td>15510</td>\n",
       "      <td>7320</td>\n",
       "      <td>4010</td>\n",
       "      <td>4060</td>\n",
       "      <td>8180</td>\n",
       "      <td>31310</td>\n",
       "      <td>12630</td>\n",
       "      <td>670</td>\n",
       "      <td>...</td>\n",
       "      <td>9580</td>\n",
       "      <td>25892</td>\n",
       "      <td>0</td>\n",
       "      <td>0</td>\n",
       "      <td>0</td>\n",
       "      <td>0</td>\n",
       "      <td>1380</td>\n",
       "      <td>2427</td>\n",
       "      <td>13870</td>\n",
       "      <td>41617</td>\n",
       "    </tr>\n",
       "  </tbody>\n",
       "</table>\n",
       "<p>3 rows × 145 columns</p>\n",
       "</div>"
      ],
      "text/plain": [
       "   score  income_level     N1  mars1  MARS2  MARS4  PREP     N2  NUMDEP  \\\n",
       "0     11  89229.765013   3830   1520   1980    280  2250   8290    2890   \n",
       "1      4  54354.508197   2440   1000   1150    270  1570   4950    1510   \n",
       "2     25  27143.778208  15510   7320   4010   4060  8180  31310   12630   \n",
       "\n",
       "   TOTAL_VITA   ...    N10300  A10300  N85530  A85530  N85300  A85300  N11901  \\\n",
       "0          50   ...      3240   64384     230     477     180     197     850   \n",
       "1         100   ...      1940   15018       0       0       0       0     470   \n",
       "2         670   ...      9580   25892       0       0       0       0    1380   \n",
       "\n",
       "   A11901  N11902  A11902  \n",
       "0    4356    2800   10143  \n",
       "1    2087    1910    4627  \n",
       "2    2427   13870   41617  \n",
       "\n",
       "[3 rows x 145 columns]"
      ]
     },
     "execution_count": 2,
     "metadata": {},
     "output_type": "execute_result"
    }
   ],
   "source": [
    "train_data=pd.read_csv(\"data/experiment.csv\")\n",
    "train_data.head(3)"
   ]
  },
  {
   "cell_type": "code",
   "execution_count": 9,
   "metadata": {},
   "outputs": [],
   "source": [
    "temp=train_data.loc[:, \"mars1\":\"ELDERLY\"].columns"
   ]
  },
  {
   "cell_type": "code",
   "execution_count": 10,
   "metadata": {},
   "outputs": [],
   "source": [
    "for column in temp:\n",
    "    train_data[\"%s_N1\" %column]=train_data[column]/train_data[\"N1\"]"
   ]
  },
  {
   "cell_type": "code",
   "execution_count": 11,
   "metadata": {},
   "outputs": [],
   "source": [
    "temp=train_data.loc[:, \"NUMDEP\":\"ELDERLY\"].columns\n",
    "for column in temp:\n",
    "    train_data[\"%s_N2\" %column]=train_data[column]/train_data[\"N2\"]"
   ]
  },
  {
   "cell_type": "code",
   "execution_count": 12,
   "metadata": {},
   "outputs": [],
   "source": [
    "temp=train_data.loc[:, \"A02650\":\"A11902\"].columns\n",
    "for column in temp:\n",
    "    if column[0]=='A':\n",
    "        train_data[\"%s_A00100\" %column]=train_data[column]/train_data[\"A00100\"]\n",
    "    else:\n",
    "        train_data[\"%s_N02650\" %column]=train_data[column]/train_data[\"N02650\"]"
   ]
  },
  {
   "cell_type": "code",
   "execution_count": 13,
   "metadata": {},
   "outputs": [],
   "source": [
    "train_data.to_csv(\"data/experiment_1.csv\", index=False)"
   ]
  },
  {
   "cell_type": "code",
   "execution_count": 54,
   "metadata": {},
   "outputs": [],
   "source": [
    "train_data=pd.read_csv(\"data/experiment_1.csv\")"
   ]
  },
  {
   "cell_type": "code",
   "execution_count": 55,
   "metadata": {},
   "outputs": [],
   "source": [
    "train_data[\"zipcode\"]=train_data_id[\"zipcode\"]"
   ]
  },
  {
   "cell_type": "code",
   "execution_count": 56,
   "metadata": {},
   "outputs": [
    {
     "data": {
      "text/plain": [
       "Index(['STATEFIPS', 'STATE', 'zipcode', 'agi_stub', 'N1', 'mars1', 'MARS2',\n",
       "       'MARS4', 'PREP', 'N2',\n",
       "       ...\n",
       "       'N10300', 'A10300', 'N85530', 'A85530', 'N85300', 'A85300', 'N11901',\n",
       "       'A11901', 'N11902', 'A11902'],\n",
       "      dtype='object', length=147)"
      ]
     },
     "execution_count": 56,
     "metadata": {},
     "output_type": "execute_result"
    }
   ],
   "source": [
    "zip_info.columns"
   ]
  },
  {
   "cell_type": "code",
   "execution_count": 57,
   "metadata": {},
   "outputs": [
    {
     "name": "stderr",
     "output_type": "stream",
     "text": [
      "/anaconda3/lib/python3.6/site-packages/pandas/core/frame.py:3694: SettingWithCopyWarning: \n",
      "A value is trying to be set on a copy of a slice from a DataFrame\n",
      "\n",
      "See the caveats in the documentation: http://pandas.pydata.org/pandas-docs/stable/indexing.html#indexing-view-versus-copy\n",
      "  errors=errors)\n"
     ]
    }
   ],
   "source": [
    "for i in range(6):\n",
    "    level=i+1\n",
    "    \n",
    "    zip_info_lvl=zip_info[zip_info[\"agi_stub\"]==level]\n",
    "    #print(zip_info_lvl.columns)\n",
    "    #print(zip_info_lvl.head(1))\n",
    "    zip_info_lvl.drop(\"STATEFIPS\", axis=1, inplace=True)\n",
    "    zip_info_lvl.drop(\"STATE\", axis=1, inplace=True)\n",
    "    zip_info_lvl.drop(\"agi_stub\", axis=1, inplace=True)\n",
    "    \n",
    "    columns=zip_info_lvl.columns[1:]\n",
    "    new_columns=[\"zipcode\"]\n",
    "    for column in columns:\n",
    "        #print(index)\n",
    "        new_columns.append(column+\"-%d\"%level)\n",
    "    #print(columns[0]+\"-%d\"%level)\n",
    "    #print(range(len(columns)))\n",
    "    \n",
    "    zip_info_lvl.columns=new_columns\n",
    "    #print(zip_info_lvl.columns)\n",
    "    \n",
    "    train_data=train_data.merge(zip_info_lvl, how=\"left\", on=\"zipcode\")"
   ]
  },
  {
   "cell_type": "code",
   "execution_count": 58,
   "metadata": {},
   "outputs": [
    {
     "data": {
      "text/plain": [
       "(23788, 1152)"
      ]
     },
     "execution_count": 58,
     "metadata": {},
     "output_type": "execute_result"
    }
   ],
   "source": [
    "train_data.shape"
   ]
  },
  {
   "cell_type": "code",
   "execution_count": 59,
   "metadata": {},
   "outputs": [],
   "source": [
    "columns=train_data.columns\n",
    "for column in columns:\n",
    "    train_data[column]=train_data[column].fillna(0)"
   ]
  },
  {
   "cell_type": "code",
   "execution_count": 63,
   "metadata": {},
   "outputs": [],
   "source": [
    "train_data.drop(\"zipcode\", axis=1, inplace=True)"
   ]
  },
  {
   "cell_type": "code",
   "execution_count": 64,
   "metadata": {},
   "outputs": [],
   "source": [
    "train_data.to_csv(\"data/experiment_2.csv\", index=False)"
   ]
  },
  {
   "cell_type": "code",
   "execution_count": null,
   "metadata": {},
   "outputs": [],
   "source": []
  },
  {
   "cell_type": "code",
   "execution_count": null,
   "metadata": {},
   "outputs": [],
   "source": []
  },
  {
   "cell_type": "code",
   "execution_count": null,
   "metadata": {},
   "outputs": [],
   "source": []
  },
  {
   "cell_type": "code",
   "execution_count": null,
   "metadata": {},
   "outputs": [],
   "source": []
  },
  {
   "cell_type": "code",
   "execution_count": null,
   "metadata": {},
   "outputs": [],
   "source": []
  },
  {
   "cell_type": "code",
   "execution_count": null,
   "metadata": {},
   "outputs": [],
   "source": []
  },
  {
   "cell_type": "code",
   "execution_count": null,
   "metadata": {},
   "outputs": [],
   "source": []
  },
  {
   "cell_type": "code",
   "execution_count": null,
   "metadata": {},
   "outputs": [],
   "source": []
  },
  {
   "cell_type": "code",
   "execution_count": null,
   "metadata": {},
   "outputs": [],
   "source": []
  },
  {
   "cell_type": "code",
   "execution_count": null,
   "metadata": {},
   "outputs": [],
   "source": []
  },
  {
   "cell_type": "code",
   "execution_count": null,
   "metadata": {},
   "outputs": [],
   "source": []
  }
 ],
 "metadata": {
  "kernelspec": {
   "display_name": "Python 3",
   "language": "python",
   "name": "python3"
  },
  "language_info": {
   "codemirror_mode": {
    "name": "ipython",
    "version": 3
   },
   "file_extension": ".py",
   "mimetype": "text/x-python",
   "name": "python",
   "nbconvert_exporter": "python",
   "pygments_lexer": "ipython3",
   "version": "3.6.5"
  }
 },
 "nbformat": 4,
 "nbformat_minor": 2
}
