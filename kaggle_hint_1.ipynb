{
 "cells": [
  {
   "cell_type": "code",
   "execution_count": 1,
   "metadata": {},
   "outputs": [],
   "source": [
    "import pandas as pd\n",
    "\n",
    "df = pd.read_csv(\"16zpallagi.csv\", na_values=['NA', '?'])"
   ]
  },
  {
   "cell_type": "code",
   "execution_count": 2,
   "metadata": {},
   "outputs": [],
   "source": [
    "df.drop(df.columns.difference(['zipcode','agi_stub','N1']), 1, inplace=True)\n",
    "df = df[df.zipcode != 0]\n",
    "df = df[df.zipcode != 99999]"
   ]
  },
  {
   "cell_type": "code",
   "execution_count": 3,
   "metadata": {},
   "outputs": [
    {
     "data": {
      "text/plain": [
       "array([35004, 35005, 35006, ..., 83127, 83128, 83414])"
      ]
     },
     "execution_count": 3,
     "metadata": {},
     "output_type": "execute_result"
    }
   ],
   "source": [
    "df['zipcode'].unique()"
   ]
  },
  {
   "cell_type": "code",
   "execution_count": 4,
   "metadata": {},
   "outputs": [],
   "source": [
    "single = df[df['zipcode'] == 63017]"
   ]
  },
  {
   "cell_type": "code",
   "execution_count": 31,
   "metadata": {},
   "outputs": [
    {
     "name": "stdout",
     "output_type": "stream",
     "text": [
      "1807500000.0\n",
      "20380.0\n"
     ]
    }
   ],
   "source": [
    "num = float(single[single['agi_stub']==1]['N1']) * 12500 + \\\n",
    "float(single[single['agi_stub']==2]['N1']) * 37500 + \\\n",
    "float(single[single['agi_stub']==3]['N1']) * 62500 + \\\n",
    "float(single[single['agi_stub']==4]['N1']) * 87500 + \\\n",
    "float(single[single['agi_stub']==5]['N1']) * 112500 + \\\n",
    "float(single[single['agi_stub']==6]['N1']) * 212500 \n",
    "print(num)\n",
    "denom = float(single[single['agi_stub']==1]['N1']) + \\\n",
    "float(single[single['agi_stub']==2]['N1']) + \\\n",
    "float(single[single['agi_stub']==3]['N1']) + \\\n",
    "float(single[single['agi_stub']==4]['N1']) + \\\n",
    "float(single[single['agi_stub']==5]['N1']) + \\\n",
    "float(single[single['agi_stub']==6]['N1']) \n",
    "print(denom)"
   ]
  },
  {
   "cell_type": "code",
   "execution_count": 32,
   "metadata": {},
   "outputs": [
    {
     "data": {
      "text/plain": [
       "88689.89205103042"
      ]
     },
     "execution_count": 32,
     "metadata": {},
     "output_type": "execute_result"
    }
   ],
   "source": [
    "num/denom"
   ]
  },
  {
   "cell_type": "code",
   "execution_count": null,
   "metadata": {},
   "outputs": [],
   "source": []
  }
 ],
 "metadata": {
  "kernelspec": {
   "display_name": "Python 3.6 (wustl)",
   "language": "python",
   "name": "wustl"
  },
  "language_info": {
   "codemirror_mode": {
    "name": "ipython",
    "version": 3
   },
   "file_extension": ".py",
   "mimetype": "text/x-python",
   "name": "python",
   "nbconvert_exporter": "python",
   "pygments_lexer": "ipython3",
   "version": "3.6.7"
  }
 },
 "nbformat": 4,
 "nbformat_minor": 2
}
